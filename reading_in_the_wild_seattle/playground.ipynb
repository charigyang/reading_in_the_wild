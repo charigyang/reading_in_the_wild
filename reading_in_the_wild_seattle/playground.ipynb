{
 "cells": [
  {
   "cell_type": "markdown",
   "id": "c73db655",
   "metadata": {},
   "source": [
    "# Loading Data and Visualization\n",
    "\n",
    "Make sure you have set up your environment `ritw` using following the instructions. \n",
    "```\n",
    "   git clone git@github.com:facebookresearch/reading_in_the_wild.git\n",
    "   cd reading_in_the_wild\n",
    "   conda create -n ritw python=3.10\n",
    "   conda activate ritw\n",
    "   pip install -r requirements.txt\n",
    "```"
   ]
  },
  {
   "cell_type": "code",
   "execution_count": null,
   "id": "368d1ea4",
   "metadata": {},
   "outputs": [],
   "source": [
    "import os\n",
    "import argparse\n",
    "import torch\n",
    "import cv2\n",
    "import pandas as pd\n",
    "import numpy as np\n",
    "import json\n",
    "from projectaria_tools.core import data_provider\n",
    "from projectaria_tools.core.sensor_data import TimeDomain, TimeQueryOptions\n",
    "from projectaria_tools.core.stream_id import StreamId\n",
    "from torch.utils.data import DataLoader\n",
    "import glob\n",
    "import torch.nn.functional as F\n",
    "import matplotlib.pyplot as plt\n",
    "from PIL import Image\n",
    "\n",
    "# We will also use utility functions defined in the models directory\n",
    "import sys\n",
    "sys.path.append(\"../models\")\n",
    "from model import MultimodalTransformer\n",
    "from projection_utils import project_gaze\n",
    "from utils import create_sampled_array, draw_projections_on_image"
   ]
  },
  {
   "cell_type": "markdown",
   "id": "03d37714",
   "metadata": {},
   "source": [
    "## Loading a Sequence\n",
    "Make sure you have downloaded a sequence with vrs, mps, and metadata. "
   ]
  },
  {
   "cell_type": "code",
   "execution_count": null,
   "id": "6776b589",
   "metadata": {},
   "outputs": [],
   "source": [
    "root_dir = \"your root directory\"\n",
    "vid_uid = \"recording_925696276074411\" # replace with any sequence that you have downloaded\n",
    "recordings_dir = os.path.join(root_dir, vid_uid)\n",
    "\n",
    "# Load Metadata\n",
    "metadata_path = os.path.join(recordings_dir, \"metadata.json\")\n",
    "with open(metadata_path, \"r\") as f:\n",
    "    metadata = json.load(f)"
   ]
  },
  {
   "cell_type": "code",
   "execution_count": null,
   "id": "dafb00ba",
   "metadata": {},
   "outputs": [],
   "source": [
    "# Load Eye Gaze\n",
    "vrs_path = os.path.join(recordings_dir, \"recording.vrs\")\n",
    "gaze_path = os.path.join(recordings_dir, \"mps\", \"eye_gaze\", \"personalized_eye_gaze.csv\")\n",
    "if not os.path.exists(gaze_path):\n",
    "    gaze_path = os.path.join(recordings_dir, \"mps\", \"eye_gaze\", \"general_eye_gaze.csv\")\n",
    "gaze = project_gaze(gaze_path, vrs_path=vrs_path)\n",
    "\n",
    "# Load RGB\n",
    "provider = data_provider.create_vrs_data_provider(vrs_path)\n",
    "deliver_option = provider.get_default_deliver_queued_options()\n",
    "deliver_option.deactivate_stream_all()\n",
    "deliver_option.activate_stream(StreamId(\"214-1\"))"
   ]
  },
  {
   "cell_type": "markdown",
   "id": "57babff7",
   "metadata": {},
   "source": [
    "### Let's preview RGB thumbnails"
   ]
  },
  {
   "cell_type": "code",
   "execution_count": null,
   "id": "bb838be6",
   "metadata": {},
   "outputs": [],
   "source": [
    "sample_count = 10 # how many samples to visualize\n",
    "resize_ratio = 10 # reduce the image size by 10 to generate thumbnails\n",
    "\n",
    "rgb_stream_id = StreamId(\"214-1\")\n",
    "time_domain = TimeDomain.DEVICE_TIME  # query data based on host time\n",
    "option = TimeQueryOptions.CLOSEST\n",
    "start_time = provider.get_first_time_ns(rgb_stream_id, time_domain)\n",
    "end_time = provider.get_last_time_ns(rgb_stream_id, time_domain)\n",
    "sample_timestamps = np.linspace(start_time, end_time, sample_count)\n",
    "\n",
    "image_config = provider.get_image_configuration(rgb_stream_id)\n",
    "width = image_config.image_width\n",
    "height = image_config.image_height\n",
    "\n",
    "thumbnail = newImage = Image.new(\n",
    "    \"RGB\", (int(width * sample_count / resize_ratio), int(height / resize_ratio))\n",
    ")\n",
    "current_width = 0\n",
    "\n",
    "for sample in sample_timestamps:\n",
    "    image_tuple = provider.get_image_data_by_time_ns(rgb_stream_id, int(sample), time_domain, option)\n",
    "    image_array = image_tuple[0].to_numpy_array()\n",
    "    image = Image.fromarray(image_array)\n",
    "    new_size = (\n",
    "        int(image.size[0] / resize_ratio),\n",
    "        int(image.size[1] / resize_ratio),\n",
    "    )\n",
    "    image = image.resize(new_size).rotate(-90)\n",
    "    thumbnail.paste(image, (current_width, 0))\n",
    "    current_width = int(current_width + width / resize_ratio)\n",
    "\n",
    "from IPython.display import Image\n",
    "display(thumbnail)"
   ]
  },
  {
   "cell_type": "markdown",
   "id": "170c9ae5",
   "metadata": {},
   "source": [
    "### Visualizing the gaze trajectories and the foveated patches over the RGB frames"
   ]
  },
  {
   "cell_type": "code",
   "execution_count": null,
   "id": "c71eaf17",
   "metadata": {},
   "outputs": [],
   "source": [
    "input_hz = 60  # input gaze frequency\n",
    "input_sec = 2  # snippet (sample) duration that is fed to the model\n",
    "crop_size = 64  # resolution of foveated rgb patch (5 degree FoV)\n",
    "input_length = input_hz * input_sec\n",
    "\n",
    "gaze_sequence = gaze[['transformed_gaze_x', 'transformed_gaze_y', 'transformed_gaze_z']].ffill()\n",
    "gaze_sequence = create_sampled_array(gaze_sequence, num_samples=input_length+1, stride=60//input_hz)\n",
    "gaze_sequence = torch.Tensor(np.diff(gaze_sequence, axis=1) * input_hz)\n",
    "num_gaze = gaze_sequence.size(0)\n",
    "\n",
    "gaze_xy = np.array(gaze[['projected_point_2d_x', 'projected_point_2d_y']].ffill())\n",
    "gaze_timestamps = gaze['tracking_timestamp_us'].tolist()"
   ]
  },
  {
   "cell_type": "code",
   "execution_count": null,
   "id": "c745c814",
   "metadata": {},
   "outputs": [],
   "source": [
    "# Get a short snippet, and plot projected gazes (colored dots) and the rgb crop (red)\n",
    "\n",
    "import mediapy as media\n",
    "\n",
    "i = len(gaze_timestamps) // 2  # i-th gaze sample. Here we chose the center of the sequence.\n",
    "frames = []\n",
    "for j in range(-20, 20): # let's visualize +/- 20 samples around it\n",
    "    gaze_idx = i + j + input_length\n",
    "    time = gaze_timestamps[gaze_idx] * 1000\n",
    "    im = provider.get_image_data_by_time_ns(StreamId(\"214-1\"), time, TimeDomain.DEVICE_TIME, TimeQueryOptions.CLOSEST)[0].to_numpy_array()\n",
    "    im = cv2.rotate(im, cv2.ROTATE_90_CLOCKWISE)      \n",
    "    x_ = 1408 - np.clip(int(gaze_xy[gaze_idx,0]), crop_size//2, 1408-crop_size//2)\n",
    "    y_ = np.clip(int(gaze_xy[gaze_idx,1]), crop_size//2, 1408-crop_size//2)\n",
    "    gaze_crop = im[y_-crop_size//2:y_+crop_size//2, x_-crop_size//2:x_+crop_size//2]\n",
    "\n",
    "    im_draw = draw_projections_on_image(im, gaze_xy[gaze_idx-60:gaze_idx:6,0],gaze_xy[gaze_idx-60:gaze_idx:6,1])\n",
    "    cv2.rectangle(im_draw, (x_-crop_size//2, y_-crop_size//2), (x_+crop_size//2, y_+crop_size//2), color=(255, 0,0), thickness=5)\n",
    "    im_draw = cv2.resize(im_draw, (704,704))\n",
    "\n",
    "    frames.append(im_draw)\n",
    "\n",
    "# Display the video\n",
    "output_vid_path = '/tmp/viz.mp4'\n",
    "media.write_video(output_vid_path, frames, fps=30)\n",
    "media.show_video(media.read_video(output_vid_path), fps=30)\n"
   ]
  }
 ],
 "metadata": {
  "kernelspec": {
   "display_name": "ritw",
   "language": "python",
   "name": "python3"
  },
  "language_info": {
   "codemirror_mode": {
    "name": "ipython",
    "version": 3
   },
   "file_extension": ".py",
   "mimetype": "text/x-python",
   "name": "python",
   "nbconvert_exporter": "python",
   "pygments_lexer": "ipython3",
   "version": "3.10.16"
  }
 },
 "nbformat": 4,
 "nbformat_minor": 5
}
